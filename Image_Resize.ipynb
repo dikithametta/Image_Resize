{
  "cells": [
    {
      "cell_type": "code",
      "execution_count": null,
      "metadata": {
        "colab": {
          "base_uri": "https://localhost:8080/"
        },
        "id": "IONmYLQww1Wo",
        "outputId": "f9f1fea6-64b1-4a17-b082-d7b7d3851a91"
      },
      "outputs": [
        {
          "name": "stdout",
          "output_type": "stream",
          "text": [
            "\u001b[33m\r0% [Working]\u001b[0m\r            \rGet:1 https://cloud.r-project.org/bin/linux/ubuntu jammy-cran40/ InRelease [3,632 B]\n",
            "Hit:2 https://developer.download.nvidia.com/compute/cuda/repos/ubuntu2204/x86_64  InRelease\n",
            "Hit:3 http://archive.ubuntu.com/ubuntu jammy InRelease\n",
            "Get:4 https://r2u.stat.illinois.edu/ubuntu jammy InRelease [6,555 B]\n",
            "Get:5 http://security.ubuntu.com/ubuntu jammy-security InRelease [129 kB]\n",
            "Get:6 http://archive.ubuntu.com/ubuntu jammy-updates InRelease [128 kB]\n",
            "Get:7 http://archive.ubuntu.com/ubuntu jammy-backports InRelease [127 kB]\n",
            "Hit:8 https://ppa.launchpadcontent.net/deadsnakes/ppa/ubuntu jammy InRelease\n",
            "Hit:9 https://ppa.launchpadcontent.net/graphics-drivers/ppa/ubuntu jammy InRelease\n",
            "Get:10 https://r2u.stat.illinois.edu/ubuntu jammy/main all Packages [9,078 kB]\n",
            "Hit:11 https://ppa.launchpadcontent.net/ubuntugis/ppa/ubuntu jammy InRelease\n",
            "Get:12 http://archive.ubuntu.com/ubuntu jammy-updates/main amd64 Packages [3,410 kB]\n",
            "Get:13 http://archive.ubuntu.com/ubuntu jammy-updates/restricted amd64 Packages [4,933 kB]\n",
            "Get:14 https://r2u.stat.illinois.edu/ubuntu jammy/main amd64 Packages [2,752 kB]\n",
            "Get:15 http://archive.ubuntu.com/ubuntu jammy-updates/universe amd64 Packages [1,566 kB]\n",
            "Get:16 http://security.ubuntu.com/ubuntu jammy-security/main amd64 Packages [3,092 kB]\n",
            "Get:17 http://security.ubuntu.com/ubuntu jammy-security/universe amd64 Packages [1,262 kB]\n",
            "Fetched 26.5 MB in 4s (6,175 kB/s)\n",
            "Reading package lists... Done\n",
            "Building dependency tree... Done\n",
            "Reading state information... Done\n",
            "51 packages can be upgraded. Run 'apt list --upgradable' to see them.\n",
            "\u001b[1;33mW: \u001b[0mSkipping acquire of configured file 'main/source/Sources' as repository 'https://r2u.stat.illinois.edu/ubuntu jammy InRelease' does not seem to provide it (sources.list entry misspelt?)\u001b[0m\n",
            "Reading package lists... Done\n",
            "Building dependency tree... Done\n",
            "Reading state information... Done\n",
            "build-essential is already the newest version (12.9ubuntu3).\n",
            "libopencv-dev is already the newest version (4.5.4+dfsg-9ubuntu4+jammy1).\n",
            "0 upgraded, 0 newly installed, 0 to remove and 51 not upgraded.\n"
          ]
        }
      ],
      "source": [
        "# i'm installing opencv library\n",
        "!apt update\n",
        "!apt install -y libopencv-dev build-essential\n"
      ]
    },
    {
      "cell_type": "code",
      "execution_count": 2,
      "metadata": {
        "colab": {
          "base_uri": "https://localhost:8080/"
        },
        "id": "CvqKJAnCxnUT",
        "outputId": "f189b357-b1b6-4720-980b-202ad38fbe91"
      },
      "outputs": [
        {
          "name": "stdout",
          "output_type": "stream",
          "text": [
            "Mounted at /content/drive\n"
          ]
        }
      ],
      "source": [
        "from google.colab import drive\n",
        "drive.mount('/content/drive')"
      ]
    },
    {
      "cell_type": "code",
      "execution_count": 3,
      "metadata": {
        "colab": {
          "base_uri": "https://localhost:8080/"
        },
        "id": "l14J6V3Vxtqz",
        "outputId": "5ae58b9a-9586-42bd-fd50-883b57a35415"
      },
      "outputs": [
        {
          "name": "stdout",
          "output_type": "stream",
          "text": [
            "Writing resize_image.cpp\n"
          ]
        }
      ],
      "source": [
        "%%writefile resize_image.cpp\n",
        "#include <opencv2/opencv.hpp>\n",
        "#include <iostream>\n",
        "\n",
        "int main() {\n",
        "    std::string input_path = \"/content/drive/MyDrive/G178_2 -1080.BMP\";\n",
        "\n",
        "    cv::Mat src = cv::imread(input_path);\n",
        "    if (src.empty()) {\n",
        "        std::cerr << \"Error: Could not load image!\" << std::endl;\n",
        "        return -1;\n",
        "    }\n",
        "\n",
        "    cv::Size targetSize(src.cols / 2, src.rows / 2);\n",
        "\n",
        "    cv::Mat resized_nearest, resized_linear, resized_cubic;\n",
        "\n",
        "    cv::resize(src, resized_nearest, targetSize, 0, 0, cv::INTER_NEAREST);\n",
        "    cv::resize(src, resized_linear, targetSize, 0, 0, cv::INTER_LINEAR);\n",
        "    cv::resize(src, resized_cubic, targetSize, 0, 0, cv::INTER_CUBIC);\n",
        "\n",
        "    cv::imwrite(\"/content/drive/MyDrive/output_nearest.bmp\", resized_nearest);\n",
        "    cv::imwrite(\"/content/drive/MyDrive/output_linear.bmp\", resized_linear);\n",
        "    cv::imwrite(\"/content/drive/MyDrive/output_cubic.bmp\", resized_cubic);\n",
        "\n",
        "    std::cout << \"Done resizing and saving images.\" << std::endl;\n",
        "    return 0;\n",
        "}\n"
      ]
    },
    {
      "cell_type": "code",
      "execution_count": 4,
      "metadata": {
        "id": "y_lVTuVnyD7G"
      },
      "outputs": [],
      "source": [
        "!g++ resize_image.cpp -o resize_image `pkg-config --cflags --libs opencv4`"
      ]
    },
    {
      "cell_type": "code",
      "execution_count": 5,
      "metadata": {
        "colab": {
          "base_uri": "https://localhost:8080/"
        },
        "id": "2rTGInHUyN-d",
        "outputId": "c34dece3-781f-4705-ac5a-3315e031533a"
      },
      "outputs": [
        {
          "name": "stdout",
          "output_type": "stream",
          "text": [
            "Done resizing and saving images.\n"
          ]
        }
      ],
      "source": [
        "!./resize_image"
      ]
    },
    {
      "cell_type": "code",
      "execution_count": 6,
      "metadata": {
        "colab": {
          "base_uri": "https://localhost:8080/"
        },
        "id": "3i7BMQgHyR1H",
        "outputId": "09eb6217-843b-4ada-e4cd-98c3c6b15019"
      },
      "outputs": [
        {
          "name": "stdout",
          "output_type": "stream",
          "text": [
            "Exists: True\n"
          ]
        }
      ],
      "source": [
        "import os\n",
        "\n",
        "# Check if the image exists at this path\n",
        "image_path = \"/content/drive/MyDrive/G178_2 -1080.BMP\"\n",
        "print(\"Exists:\", os.path.exists(image_path))\n"
      ]
    },
    {
      "cell_type": "markdown",
      "metadata": {
        "id": "Ay6CmrkT07YV"
      },
      "source": [
        "Now i am going to run 1000 iterations for all 3 interpolations"
      ]
    },
    {
      "cell_type": "code",
      "execution_count": 7,
      "metadata": {
        "colab": {
          "base_uri": "https://localhost:8080/"
        },
        "id": "8WJ0APOLyujd",
        "outputId": "86645ff9-43e9-41ad-e687-18d75a81d820"
      },
      "outputs": [
        {
          "name": "stdout",
          "output_type": "stream",
          "text": [
            "Writing resize_image_1000.cpp\n"
          ]
        }
      ],
      "source": [
        "%%writefile resize_image_1000.cpp\n",
        "#include <opencv2/opencv.hpp>\n",
        "#include <iostream>\n",
        "#include <chrono>\n",
        "\n",
        "int main() {\n",
        "    std::string input_path = \"/content/drive/MyDrive/G178_2 -1080.BMP\";\n",
        "    cv::Mat src = cv::imread(input_path);\n",
        "\n",
        "    if (src.empty()) {\n",
        "        std::cerr << \"Error: Could not load image!\" << std::endl;\n",
        "        return -1;\n",
        "    }\n",
        "\n",
        "    cv::Size targetSize(src.cols / 2, src.rows / 2);\n",
        "    cv::Mat resized;\n",
        "\n",
        "    // INTER_NEAREST\n",
        "    auto start_nearest = std::chrono::high_resolution_clock::now();\n",
        "    for (int i = 0; i < 1000; ++i) {\n",
        "        cv::resize(src, resized, targetSize, 0, 0, cv::INTER_NEAREST);\n",
        "    }\n",
        "    auto end_nearest = std::chrono::high_resolution_clock::now();\n",
        "    auto duration_nearest = std::chrono::duration_cast<std::chrono::milliseconds>(end_nearest - start_nearest).count();\n",
        "    std::cout << \"Time taken for 1000 iterations using INTER_NEAREST: \" << duration_nearest << \" ms\" << std::endl;\n",
        "\n",
        "    // INTER_LINEAR\n",
        "    auto start_linear = std::chrono::high_resolution_clock::now();\n",
        "    for (int i = 0; i < 1000; ++i) {\n",
        "        cv::resize(src, resized, targetSize, 0, 0, cv::INTER_LINEAR);\n",
        "    }\n",
        "    auto end_linear = std::chrono::high_resolution_clock::now();\n",
        "    auto duration_linear = std::chrono::duration_cast<std::chrono::milliseconds>(end_linear - start_linear).count();\n",
        "    std::cout << \"Time taken for 1000 iterations using INTER_LINEAR: \" << duration_linear << \" ms\" << std::endl;\n",
        "\n",
        "    // INTER_CUBIC\n",
        "    auto start_cubic = std::chrono::high_resolution_clock::now();\n",
        "    for (int i = 0; i < 1000; ++i) {\n",
        "        cv::resize(src, resized, targetSize, 0, 0, cv::INTER_CUBIC);\n",
        "    }\n",
        "    auto end_cubic = std::chrono::high_resolution_clock::now();\n",
        "    auto duration_cubic = std::chrono::duration_cast<std::chrono::milliseconds>(end_cubic - start_cubic).count();\n",
        "    std::cout << \"Time taken for 1000 iterations using INTER_CUBIC: \" << duration_cubic << \" ms\" << std::endl;\n",
        "\n",
        "    return 0;\n",
        "}\n"
      ]
    },
    {
      "cell_type": "code",
      "execution_count": 8,
      "metadata": {
        "id": "j574m-nd1Lvj"
      },
      "outputs": [],
      "source": [
        "!g++ resize_image_1000.cpp -o resize_image_1000 `pkg-config --cflags --libs opencv4`"
      ]
    },
    {
      "cell_type": "code",
      "execution_count": 9,
      "metadata": {
        "colab": {
          "base_uri": "https://localhost:8080/"
        },
        "id": "gaWbLyw81RU0",
        "outputId": "680e78a6-82e3-4bab-c35a-3d6d7ad91b61"
      },
      "outputs": [
        {
          "name": "stdout",
          "output_type": "stream",
          "text": [
            "Time taken for 1000 iterations using INTER_NEAREST: 828 ms\n",
            "Time taken for 1000 iterations using INTER_LINEAR: 1207 ms\n",
            "Time taken for 1000 iterations using INTER_CUBIC: 11732 ms\n"
          ]
        }
      ],
      "source": [
        "!./resize_image_1000"
      ]
    },
    {
      "cell_type": "code",
      "execution_count": 10,
      "metadata": {
        "colab": {
          "base_uri": "https://localhost:8080/"
        },
        "id": "DhBy48OJ2vf7",
        "outputId": "51912cb9-1022-41a6-80c1-64ae45bb008c"
      },
      "outputs": [
        {
          "name": "stdout",
          "output_type": "stream",
          "text": [
            "Writing resize_image_custom2.cpp\n"
          ]
        }
      ],
      "source": [
        "%%writefile resize_image_custom2.cpp\n",
        "#include <opencv2/opencv.hpp>\n",
        "#include <iostream>\n",
        "#include <chrono>\n",
        "#include <cmath>\n",
        "\n",
        "enum InterpolationMethod {\n",
        "    INTER_NEAREST = 0,\n",
        "    INTER_LINEAR = 1,\n",
        "    INTER_CUBIC = 2\n",
        "};\n",
        "\n",
        "inline int clamp(int val, int max) {\n",
        "    return (val < 0) ? 0 : (val > max) ? max : val;\n",
        "}\n",
        "\n",
        "void myResize(const cv::Mat& src, cv::Mat& dst, cv::Size dsize, int interpolation) {\n",
        "    int src_width = src.cols;\n",
        "    int src_height = src.rows;\n",
        "    int dst_width = dsize.width;\n",
        "    int dst_height = dsize.height;\n",
        "\n",
        "    dst.create(dst_height, dst_width, src.type());\n",
        "\n",
        "    double scale_x = static_cast<double>(src_width) / dst_width;\n",
        "    double scale_y = static_cast<double>(src_height) / dst_height;\n",
        "\n",
        "    for (int y = 0; y < dst_height; ++y) {\n",
        "        for (int x = 0; x < dst_width; ++x) {\n",
        "            double gx = (x + 0.5) * scale_x - 0.5;\n",
        "            double gy = (y + 0.5) * scale_y - 0.5;\n",
        "\n",
        "            if (interpolation == INTER_NEAREST) {\n",
        "                int ix = clamp(static_cast<int>(round(gx)), src_width - 1);\n",
        "                int iy = clamp(static_cast<int>(round(gy)), src_height - 1);\n",
        "\n",
        "                for (int c = 0; c < src.channels(); ++c) {\n",
        "                    dst.at<cv::Vec3b>(y, x)[c] = src.at<cv::Vec3b>(iy, ix)[c];\n",
        "                }\n",
        "            }\n",
        "            else if (interpolation == INTER_LINEAR || interpolation == INTER_CUBIC) {\n",
        "                // For INTER_CUBIC\n",
        "                int ix = static_cast<int>(floor(gx));\n",
        "                int iy = static_cast<int>(floor(gy));\n",
        "                double dx = gx - ix;\n",
        "                double dy = gy - iy;\n",
        "\n",
        "                for (int c = 0; c < src.channels(); ++c) {\n",
        "                    uchar p00 = src.at<cv::Vec3b>(clamp(iy, src_height - 1), clamp(ix, src_width - 1))[c];\n",
        "                    uchar p01 = src.at<cv::Vec3b>(clamp(iy, src_height - 1), clamp(ix + 1, src_width - 1))[c];\n",
        "                    uchar p10 = src.at<cv::Vec3b>(clamp(iy + 1, src_height - 1), clamp(ix, src_width - 1))[c];\n",
        "                    uchar p11 = src.at<cv::Vec3b>(clamp(iy + 1, src_height - 1), clamp(ix + 1, src_width - 1))[c];\n",
        "\n",
        "                    double val = (1 - dx) * (1 - dy) * p00 +\n",
        "                                 dx * (1 - dy) * p01 +\n",
        "                                 (1 - dx) * dy * p10 +\n",
        "                                 dx * dy * p11;\n",
        "\n",
        "                    dst.at<cv::Vec3b>(y, x)[c] = static_cast<uchar>(val);\n",
        "                }\n",
        "            }\n",
        "        }\n",
        "    }\n",
        "}\n",
        "\n",
        "bool compareImagesWithTolerance(const cv::Mat& img1, const cv::Mat& img2, int tol = 2) {\n",
        "    if (img1.size() != img2.size() || img1.type() != img2.type())\n",
        "        return false;\n",
        "\n",
        "    cv::Mat diff;\n",
        "    cv::absdiff(img1, img2, diff);\n",
        "    for (int y = 0; y < diff.rows; ++y) {\n",
        "        for (int x = 0; x < diff.cols; ++x) {\n",
        "            cv::Vec3b pixel = diff.at<cv::Vec3b>(y, x);\n",
        "            if (pixel[0] > tol || pixel[1] > tol || pixel[2] > tol)\n",
        "                return false;\n",
        "        }\n",
        "    }\n",
        "    return true;\n",
        "}\n",
        "\n",
        "int main() {\n",
        "    std::string input_path = \"/content/drive/MyDrive/G178_2 -1080.BMP\";\n",
        "    cv::Mat src = cv::imread(input_path);\n",
        "    if (src.empty()) {\n",
        "        std::cerr << \"Error: Could not load image!\" << std::endl;\n",
        "        return -1;\n",
        "    }\n",
        "\n",
        "    cv::Size targetSize(src.cols / 2, src.rows / 2);\n",
        "\n",
        "    cv::Mat cv_resized, my_resized;\n",
        "\n",
        "    for (int interp : {INTER_NEAREST, INTER_LINEAR, INTER_CUBIC}) {\n",
        "        // Warm up\n",
        "        cv::resize(src, cv_resized, targetSize, 0, 0, interp);\n",
        "        myResize(src, my_resized, targetSize, interp);\n",
        "\n",
        "        // Measure OpenCV resize timing\n",
        "        auto start_cv = std::chrono::high_resolution_clock::now();\n",
        "        for (int i = 0; i < 1000; ++i) {\n",
        "            cv::resize(src, cv_resized, targetSize, 0, 0, interp);\n",
        "        }\n",
        "        auto end_cv = std::chrono::high_resolution_clock::now();\n",
        "        auto cv_time = std::chrono::duration_cast<std::chrono::milliseconds>(end_cv - start_cv).count();\n",
        "\n",
        "        // Measure custom resize timing\n",
        "        auto start_my = std::chrono::high_resolution_clock::now();\n",
        "        for (int i = 0; i < 1000; ++i) {\n",
        "            myResize(src, my_resized, targetSize, interp);\n",
        "        }\n",
        "        auto end_my = std::chrono::high_resolution_clock::now();\n",
        "        auto my_time = std::chrono::duration_cast<std::chrono::milliseconds>(end_my - start_my).count();\n",
        "\n",
        "        // Compare results with tolerance\n",
        "        bool identical = compareImagesWithTolerance(cv_resized, my_resized, 2);\n",
        "\n",
        "        std::cout << \"Interpolation method: \" << interp << \" (0=Nearest,1=Linear,2=Cubic)\" << std::endl;\n",
        "        std::cout << \"OpenCV resize time (1000 iters): \" << cv_time << \" ms\" << std::endl;\n",
        "        std::cout << \"Custom resize time (1000 iters): \" << my_time << \" ms\" << std::endl;\n",
        "        std::cout << \"Outputs similar (tolerance=2)? \" << (identical ? \"YES\" : \"NO\") << std::endl;\n",
        "        std::cout << \"-------------------------------------------\" << std::endl;\n",
        "    }\n",
        "\n",
        "    return 0;\n",
        "}\n"
      ]
    },
    {
      "cell_type": "code",
      "execution_count": 11,
      "metadata": {
        "id": "5lG_XtDN4hlq"
      },
      "outputs": [],
      "source": [
        "!g++ resize_image_custom2.cpp -o resize_image_custom2 `pkg-config --cflags --libs opencv4`"
      ]
    },
    {
      "cell_type": "code",
      "execution_count": 12,
      "metadata": {
        "colab": {
          "base_uri": "https://localhost:8080/"
        },
        "id": "6ldFPVWs4nqG",
        "outputId": "6a5d585f-1d73-4dd8-9ea7-883ec894b72a"
      },
      "outputs": [
        {
          "name": "stdout",
          "output_type": "stream",
          "text": [
            "Interpolation method: 0 (0=Nearest,1=Linear,2=Cubic)\n",
            "OpenCV resize time (1000 iters): 832 ms\n",
            "Custom resize time (1000 iters): 38201 ms\n",
            "Outputs similar (tolerance=2)? NO\n",
            "-------------------------------------------\n",
            "Interpolation method: 1 (0=Nearest,1=Linear,2=Cubic)\n",
            "OpenCV resize time (1000 iters): 1987 ms\n",
            "Custom resize time (1000 iters): 122052 ms\n",
            "Outputs similar (tolerance=2)? YES\n",
            "-------------------------------------------\n",
            "Interpolation method: 2 (0=Nearest,1=Linear,2=Cubic)\n",
            "OpenCV resize time (1000 iters): 11735 ms\n",
            "Custom resize time (1000 iters): 124535 ms\n",
            "Outputs similar (tolerance=2)? NO\n",
            "-------------------------------------------\n"
          ]
        }
      ],
      "source": [
        "!./resize_image_custom2"
      ]
    }
  ],
  "metadata": {
    "colab": {
      "provenance": []
    },
    "kernelspec": {
      "display_name": "Python 3",
      "name": "python3"
    },
    "language_info": {
      "name": "python"
    }
  },
  "nbformat": 4,
  "nbformat_minor": 0
}
